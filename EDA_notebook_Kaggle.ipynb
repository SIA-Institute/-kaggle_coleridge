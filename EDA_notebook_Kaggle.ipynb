{
 "cells": [
  {
   "cell_type": "markdown",
   "metadata": {},
   "source": [
    "From [https://www.kaggle.com/c/coleridgeinitiative-show-us-the-data]"
   ]
  },
  {
   "cell_type": "markdown",
   "metadata": {},
   "source": [
    "# Early Load of Functions"
   ]
  },
  {
   "cell_type": "markdown",
   "metadata": {},
   "source": [
    "## walk_directory(directory)"
   ]
  },
  {
   "cell_type": "code",
   "execution_count": 1,
   "metadata": {
    "ExecuteTime": {
     "end_time": "2021-04-22T23:34:05.411888Z",
     "start_time": "2021-04-22T23:34:05.406781Z"
    }
   },
   "outputs": [],
   "source": [
    "def walk_directory(directory):\n",
    "    import os\n",
    "    \n",
    "    iterator = 0\n",
    "    file_list = []\n",
    "\n",
    "    for root, dirs, files in os.walk(directory):\n",
    "        for file in files:\n",
    "            if file.startswith('.'):\n",
    "                pass\n",
    "            else:\n",
    "                pathway = os.path.join(root, file)\n",
    "                pathway = os.path.realpath(pathway)# added from Jeanna for Windows to read\n",
    "                file_list.append(pathway)\n",
    "                iterator += 1\n",
    "                \n",
    "    return file_list"
   ]
  },
  {
   "cell_type": "markdown",
   "metadata": {},
   "source": [
    "## determine_os( )"
   ]
  },
  {
   "cell_type": "code",
   "execution_count": 2,
   "metadata": {
    "ExecuteTime": {
     "end_time": "2021-04-22T23:34:05.421760Z",
     "start_time": "2021-04-22T23:34:05.415616Z"
    }
   },
   "outputs": [],
   "source": [
    "def determine_os():\n",
    "    import platform\n",
    "    system = platform.system()\n",
    "    if system == 'Darwin':\n",
    "        os_system = 'Mac'\n",
    "    elif system == 'Windows':\n",
    "        os_system = 'Windows'\n",
    "    return os_system"
   ]
  },
  {
   "cell_type": "markdown",
   "metadata": {},
   "source": [
    "## walk_mac_directory( )"
   ]
  },
  {
   "cell_type": "code",
   "execution_count": 3,
   "metadata": {
    "ExecuteTime": {
     "end_time": "2021-04-22T23:34:05.431696Z",
     "start_time": "2021-04-22T23:34:05.425770Z"
    }
   },
   "outputs": [],
   "source": [
    "def walk_mac_directory_json(directory):\n",
    "    import os\n",
    "    iterator = 0\n",
    "    file_list = []\n",
    "\n",
    "    for root, dirs, files in tqdm(os.walk(directory)):\n",
    "        for file in files:\n",
    "            if file.startswith('.'):\n",
    "                pass\n",
    "            elif file.endswith('json'):\n",
    "                pathway = os.path.join(root, file)\n",
    "                file_list.append(pathway)\n",
    "            else:\n",
    "                pass\n",
    "\n",
    "                \n",
    "    return file_list\n"
   ]
  },
  {
   "cell_type": "markdown",
   "metadata": {},
   "source": [
    "## walk_pc_directory( )"
   ]
  },
  {
   "cell_type": "code",
   "execution_count": 4,
   "metadata": {
    "ExecuteTime": {
     "end_time": "2021-04-22T23:34:05.441264Z",
     "start_time": "2021-04-22T23:34:05.435744Z"
    }
   },
   "outputs": [],
   "source": [
    "def walk_pc_directory_json(directory):\n",
    "    import os\n",
    "    \n",
    "    file_list = []\n",
    "\n",
    "    for root, dirs, files in os.walk(directory):\n",
    "        for file in files:\n",
    "            if file.startswith('.'):\n",
    "                pass\n",
    "            elif file.endswith('json'):\n",
    "                pathway = os.path.realpath(pathway)# added from Jeanna for Windows to read\n",
    "                file_list.append(pathway)\n",
    "            else:\n",
    "                pass\n",
    "                \n",
    "                \n",
    "    return file_list"
   ]
  },
  {
   "cell_type": "markdown",
   "metadata": {},
   "source": [
    "# Step 1: Looking at the Sample Output DataFrame\n",
    "\n",
    "Kaggle provided a sample output DataFrame. We are examining it to see what is in it. "
   ]
  },
  {
   "cell_type": "code",
   "execution_count": 9,
   "metadata": {
    "ExecuteTime": {
     "end_time": "2021-04-22T23:36:44.600677Z",
     "start_time": "2021-04-22T23:36:44.589887Z"
    }
   },
   "outputs": [
    {
     "name": "stdout",
     "output_type": "stream",
     "text": [
      "(4, 2)\n"
     ]
    },
    {
     "data": {
      "text/html": [
       "<div>\n",
       "<style scoped>\n",
       "    .dataframe tbody tr th:only-of-type {\n",
       "        vertical-align: middle;\n",
       "    }\n",
       "\n",
       "    .dataframe tbody tr th {\n",
       "        vertical-align: top;\n",
       "    }\n",
       "\n",
       "    .dataframe thead th {\n",
       "        text-align: right;\n",
       "    }\n",
       "</style>\n",
       "<table border=\"1\" class=\"dataframe\">\n",
       "  <thead>\n",
       "    <tr style=\"text-align: right;\">\n",
       "      <th></th>\n",
       "      <th>Id</th>\n",
       "      <th>PredictionString</th>\n",
       "    </tr>\n",
       "  </thead>\n",
       "  <tbody>\n",
       "    <tr>\n",
       "      <th>0</th>\n",
       "      <td>2100032a-7c33-4bff-97ef-690822c43466</td>\n",
       "      <td>NaN</td>\n",
       "    </tr>\n",
       "    <tr>\n",
       "      <th>1</th>\n",
       "      <td>2f392438-e215-4169-bebf-21ac4ff253e1</td>\n",
       "      <td>NaN</td>\n",
       "    </tr>\n",
       "    <tr>\n",
       "      <th>2</th>\n",
       "      <td>3f316b38-1a24-45a9-8d8c-4e05a42257c6</td>\n",
       "      <td>NaN</td>\n",
       "    </tr>\n",
       "    <tr>\n",
       "      <th>3</th>\n",
       "      <td>8e6996b4-ca08-4c0b-bed2-aaf07a4c6a60</td>\n",
       "      <td>NaN</td>\n",
       "    </tr>\n",
       "  </tbody>\n",
       "</table>\n",
       "</div>"
      ],
      "text/plain": [
       "                                     Id  PredictionString\n",
       "0  2100032a-7c33-4bff-97ef-690822c43466               NaN\n",
       "1  2f392438-e215-4169-bebf-21ac4ff253e1               NaN\n",
       "2  3f316b38-1a24-45a9-8d8c-4e05a42257c6               NaN\n",
       "3  8e6996b4-ca08-4c0b-bed2-aaf07a4c6a60               NaN"
      ]
     },
     "metadata": {},
     "output_type": "display_data"
    }
   ],
   "source": [
    "import pandas as pd\n",
    "\n",
    "sample_df = pd.read_csv('coleridgeinitiative-show-us-the-data/sample_submission.csv')\n",
    "\n",
    "print(sample_df.shape)\n",
    "\n",
    "display(sample_df)"
   ]
  },
  {
   "cell_type": "markdown",
   "metadata": {},
   "source": [
    "Annnnnddddd... looking at the sample submission DataFrame, it does not tell us anything. "
   ]
  },
  {
   "cell_type": "markdown",
   "metadata": {},
   "source": [
    "# Step 2: Looking at the train.csv DataFrame\n",
    "\n",
    "Kaggle also included a train.csv file. Let's look at that file to see what is in it. "
   ]
  },
  {
   "cell_type": "code",
   "execution_count": 13,
   "metadata": {
    "ExecuteTime": {
     "end_time": "2021-04-22T23:40:17.296304Z",
     "start_time": "2021-04-22T23:40:17.200681Z"
    }
   },
   "outputs": [
    {
     "name": "stdout",
     "output_type": "stream",
     "text": [
      "(19661, 5)\n"
     ]
    },
    {
     "data": {
      "text/html": [
       "<div>\n",
       "<style scoped>\n",
       "    .dataframe tbody tr th:only-of-type {\n",
       "        vertical-align: middle;\n",
       "    }\n",
       "\n",
       "    .dataframe tbody tr th {\n",
       "        vertical-align: top;\n",
       "    }\n",
       "\n",
       "    .dataframe thead th {\n",
       "        text-align: right;\n",
       "    }\n",
       "</style>\n",
       "<table border=\"1\" class=\"dataframe\">\n",
       "  <thead>\n",
       "    <tr style=\"text-align: right;\">\n",
       "      <th></th>\n",
       "      <th>0</th>\n",
       "      <th>1</th>\n",
       "      <th>2</th>\n",
       "    </tr>\n",
       "  </thead>\n",
       "  <tbody>\n",
       "    <tr>\n",
       "      <th>Id</th>\n",
       "      <td>d0fa7568-7d8e-4db9-870f-f9c6f668c17b</td>\n",
       "      <td>2f26f645-3dec-485d-b68d-f013c9e05e60</td>\n",
       "      <td>c5d5cd2c-59de-4f29-bbb1-6a88c7b52f29</td>\n",
       "    </tr>\n",
       "    <tr>\n",
       "      <th>pub_title</th>\n",
       "      <td>The Impact of Dual Enrollment on College Degre...</td>\n",
       "      <td>Educational Attainment of High School Dropouts...</td>\n",
       "      <td>Differences in Outcomes for Female and Male St...</td>\n",
       "    </tr>\n",
       "    <tr>\n",
       "      <th>dataset_title</th>\n",
       "      <td>National Education Longitudinal Study</td>\n",
       "      <td>National Education Longitudinal Study</td>\n",
       "      <td>National Education Longitudinal Study</td>\n",
       "    </tr>\n",
       "    <tr>\n",
       "      <th>dataset_label</th>\n",
       "      <td>National Education Longitudinal Study</td>\n",
       "      <td>National Education Longitudinal Study</td>\n",
       "      <td>National Education Longitudinal Study</td>\n",
       "    </tr>\n",
       "    <tr>\n",
       "      <th>cleaned_label</th>\n",
       "      <td>national education longitudinal study</td>\n",
       "      <td>national education longitudinal study</td>\n",
       "      <td>national education longitudinal study</td>\n",
       "    </tr>\n",
       "  </tbody>\n",
       "</table>\n",
       "</div>"
      ],
      "text/plain": [
       "                                                               0  \\\n",
       "Id                          d0fa7568-7d8e-4db9-870f-f9c6f668c17b   \n",
       "pub_title      The Impact of Dual Enrollment on College Degre...   \n",
       "dataset_title              National Education Longitudinal Study   \n",
       "dataset_label              National Education Longitudinal Study   \n",
       "cleaned_label              national education longitudinal study   \n",
       "\n",
       "                                                               1  \\\n",
       "Id                          2f26f645-3dec-485d-b68d-f013c9e05e60   \n",
       "pub_title      Educational Attainment of High School Dropouts...   \n",
       "dataset_title              National Education Longitudinal Study   \n",
       "dataset_label              National Education Longitudinal Study   \n",
       "cleaned_label              national education longitudinal study   \n",
       "\n",
       "                                                               2  \n",
       "Id                          c5d5cd2c-59de-4f29-bbb1-6a88c7b52f29  \n",
       "pub_title      Differences in Outcomes for Female and Male St...  \n",
       "dataset_title              National Education Longitudinal Study  \n",
       "dataset_label              National Education Longitudinal Study  \n",
       "cleaned_label              national education longitudinal study  "
      ]
     },
     "metadata": {},
     "output_type": "display_data"
    }
   ],
   "source": [
    "import pandas as pd\n",
    "\n",
    "train_df = pd.read_csv('coleridgeinitiative-show-us-the-data/train.csv')\n",
    "\n",
    "print(train_df.shape)\n",
    "\n",
    "display(train_df.head(3).T)"
   ]
  },
  {
   "cell_type": "markdown",
   "metadata": {},
   "source": [
    "And again ... this does not show us much. \n",
    "\n",
    "Kaggle did include a folder (called \"train\") that contains json files. These json files are of articles. This will be our next examination.\n",
    "\n",
    "# Step 3: Examine one of the json files in the train folder"
   ]
  },
  {
   "cell_type": "code",
   "execution_count": 14,
   "metadata": {
    "ExecuteTime": {
     "end_time": "2021-04-22T23:44:25.901445Z",
     "start_time": "2021-04-22T23:44:23.464108Z"
    }
   },
   "outputs": [
    {
     "data": {
      "text/html": [
       "<div>\n",
       "<style scoped>\n",
       "    .dataframe tbody tr th:only-of-type {\n",
       "        vertical-align: middle;\n",
       "    }\n",
       "\n",
       "    .dataframe tbody tr th {\n",
       "        vertical-align: top;\n",
       "    }\n",
       "\n",
       "    .dataframe thead th {\n",
       "        text-align: right;\n",
       "    }\n",
       "</style>\n",
       "<table border=\"1\" class=\"dataframe\">\n",
       "  <thead>\n",
       "    <tr style=\"text-align: right;\">\n",
       "      <th></th>\n",
       "      <th>section_title</th>\n",
       "      <th>text</th>\n",
       "    </tr>\n",
       "  </thead>\n",
       "  <tbody>\n",
       "    <tr>\n",
       "      <th>0</th>\n",
       "      <td>Abstract</td>\n",
       "      <td>The aim of this study was to identify if acqui...</td>\n",
       "    </tr>\n",
       "    <tr>\n",
       "      <th>1</th>\n",
       "      <td>Introduction</td>\n",
       "      <td>The spur of ICT (Information and Communication...</td>\n",
       "    </tr>\n",
       "    <tr>\n",
       "      <th>2</th>\n",
       "      <td>English and ICT</td>\n",
       "      <td>Studies continue to show that primary language...</td>\n",
       "    </tr>\n",
       "    <tr>\n",
       "      <th>3</th>\n",
       "      <td>Lebanon</td>\n",
       "      <td>Lebanon is a small country situated in the Mid...</td>\n",
       "    </tr>\n",
       "    <tr>\n",
       "      <th>4</th>\n",
       "      <td>Gender Inequality in Lebanon</td>\n",
       "      <td>Lebanese women are in a constant battle with a...</td>\n",
       "    </tr>\n",
       "    <tr>\n",
       "      <th>5</th>\n",
       "      <td>Lebanon's ICT Sector</td>\n",
       "      <td>While a number of Arab governments have adopte...</td>\n",
       "    </tr>\n",
       "    <tr>\n",
       "      <th>6</th>\n",
       "      <td>DOT Lebanon ICT Training Program</td>\n",
       "      <td>DOT Lebanon is a registered local Lebanese NGO...</td>\n",
       "    </tr>\n",
       "    <tr>\n",
       "      <th>7</th>\n",
       "      <td>Methodology</td>\n",
       "      <td></td>\n",
       "    </tr>\n",
       "    <tr>\n",
       "      <th>8</th>\n",
       "      <td>Study Design</td>\n",
       "      <td>This is a prospective cohort study describing ...</td>\n",
       "    </tr>\n",
       "    <tr>\n",
       "      <th>9</th>\n",
       "      <td>Study Procedure</td>\n",
       "      <td>Upon registering in the training, participants...</td>\n",
       "    </tr>\n",
       "    <tr>\n",
       "      <th>10</th>\n",
       "      <td>Data Analysis and Statistics</td>\n",
       "      <td>Data was analyzed using Statistical Package fo...</td>\n",
       "    </tr>\n",
       "    <tr>\n",
       "      <th>11</th>\n",
       "      <td>Limitations</td>\n",
       "      <td>A limitation that arises with a longitudinal s...</td>\n",
       "    </tr>\n",
       "    <tr>\n",
       "      <th>12</th>\n",
       "      <td>Results</td>\n",
       "      <td>The response rate for this follow-up study was...</td>\n",
       "    </tr>\n",
       "    <tr>\n",
       "      <th>13</th>\n",
       "      <td>Characteristics of Participants Survey at 3-mo...</td>\n",
       "      <td>Gender Female 153 (56)</td>\n",
       "    </tr>\n",
       "    <tr>\n",
       "      <th>14</th>\n",
       "      <td>Discussion</td>\n",
       "      <td></td>\n",
       "    </tr>\n",
       "    <tr>\n",
       "      <th>15</th>\n",
       "      <td>Income Generation Opportunity Status</td>\n",
       "      <td>The results showed that 195 (72%) beneficiarie...</td>\n",
       "    </tr>\n",
       "    <tr>\n",
       "      <th>16</th>\n",
       "      <td>Gender Inequality</td>\n",
       "      <td>Gender was found to be a statistically signifi...</td>\n",
       "    </tr>\n",
       "    <tr>\n",
       "      <th>17</th>\n",
       "      <td>English Reading Proficiency</td>\n",
       "      <td>The results indicate a significant difference ...</td>\n",
       "    </tr>\n",
       "    <tr>\n",
       "      <th>18</th>\n",
       "      <td>Governorate Disparities</td>\n",
       "      <td>Beneficiaries living in the capital Beirut wer...</td>\n",
       "    </tr>\n",
       "    <tr>\n",
       "      <th>19</th>\n",
       "      <td>Conclusion</td>\n",
       "      <td>Lebanon is already among the countries with th...</td>\n",
       "    </tr>\n",
       "  </tbody>\n",
       "</table>\n",
       "</div>"
      ],
      "text/plain": [
       "                                        section_title  \\\n",
       "0                                            Abstract   \n",
       "1                                        Introduction   \n",
       "2                                     English and ICT   \n",
       "3                                             Lebanon   \n",
       "4                        Gender Inequality in Lebanon   \n",
       "5                                Lebanon's ICT Sector   \n",
       "6                    DOT Lebanon ICT Training Program   \n",
       "7                                         Methodology   \n",
       "8                                        Study Design   \n",
       "9                                     Study Procedure   \n",
       "10                       Data Analysis and Statistics   \n",
       "11                                        Limitations   \n",
       "12                                            Results   \n",
       "13  Characteristics of Participants Survey at 3-mo...   \n",
       "14                                         Discussion   \n",
       "15               Income Generation Opportunity Status   \n",
       "16                                  Gender Inequality   \n",
       "17                        English Reading Proficiency   \n",
       "18                            Governorate Disparities   \n",
       "19                                         Conclusion   \n",
       "\n",
       "                                                 text  \n",
       "0   The aim of this study was to identify if acqui...  \n",
       "1   The spur of ICT (Information and Communication...  \n",
       "2   Studies continue to show that primary language...  \n",
       "3   Lebanon is a small country situated in the Mid...  \n",
       "4   Lebanese women are in a constant battle with a...  \n",
       "5   While a number of Arab governments have adopte...  \n",
       "6   DOT Lebanon is a registered local Lebanese NGO...  \n",
       "7                                                      \n",
       "8   This is a prospective cohort study describing ...  \n",
       "9   Upon registering in the training, participants...  \n",
       "10  Data was analyzed using Statistical Package fo...  \n",
       "11  A limitation that arises with a longitudinal s...  \n",
       "12  The response rate for this follow-up study was...  \n",
       "13                            Gender Female 153 (56)   \n",
       "14                                                     \n",
       "15  The results showed that 195 (72%) beneficiarie...  \n",
       "16  Gender was found to be a statistically signifi...  \n",
       "17  The results indicate a significant difference ...  \n",
       "18  Beneficiaries living in the capital Beirut wer...  \n",
       "19  Lebanon is already among the countries with th...  "
      ]
     },
     "execution_count": 14,
     "metadata": {},
     "output_type": "execute_result"
    }
   ],
   "source": [
    "import pandas as pd\n",
    "\n",
    "example_json = pd.read_json('coleridgeinitiative-show-us-the-data/train/0007f880-0a9b-492d-9a58-76eb0b0e0bd7.json')\n",
    "\n",
    "example_json"
   ]
  },
  {
   "cell_type": "markdown",
   "metadata": {},
   "source": [
    "So the json files are broken down into each sections based upon the section title in each article. This will mean that if we build a single csv/DataFrame of all of the articles in the folder, we will need to add an additional column to the final csv/DataFrame that gives us the title of the article. The DataFrame columns would be **['article_title', 'section_title', 'text']**. This will give us a way to refer back to each article individually, as well as into each section of each article specifically."
   ]
  },
  {
   "cell_type": "markdown",
   "metadata": {},
   "source": [
    "# Step 4: How many files are in the train folder?\n",
    "\n",
    "Earlier (section 1.1 above) we established a function to walk a directory. We are going to use this function next to walk the train folder and determine\n",
    "1. how many files are in the folder, and\n",
    "1. what the titles of the json files."
   ]
  },
  {
   "cell_type": "code",
   "execution_count": 27,
   "metadata": {
    "ExecuteTime": {
     "end_time": "2021-04-09T23:51:21.878680Z",
     "start_time": "2021-04-09T23:51:21.820177Z"
    }
   },
   "outputs": [
    {
     "name": "stderr",
     "output_type": "stream",
     "text": [
      "1it [00:00, 20.06it/s]"
     ]
    },
    {
     "name": "stdout",
     "output_type": "stream",
     "text": [
      "14316\n"
     ]
    },
    {
     "name": "stderr",
     "output_type": "stream",
     "text": [
      "\n"
     ]
    }
   ],
   "source": [
    "import pandas as pd\n",
    "import os\n",
    "from tqdm.auto import trange#, tqdm_notebook\n",
    "\n",
    "directory = 'coleridgeinitiative-show-us-the-data/train'\n",
    "\n",
    "os_system = determine_os()\n",
    "\n",
    "if os_system == 'Mac':\n",
    "    file_list = walk_mac_directory_json(directory)\n",
    "elif os_system == 'Windows':\n",
    "    file_list = walk_pc_directory_json(directory)\n",
    "else:\n",
    "    print(\"Error in reading the files.\")\n",
    "\n",
    "print(len(file_list))"
   ]
  },
  {
   "cell_type": "markdown",
   "metadata": {},
   "source": [
    "# Step 5: Do we want to combine all of the text into one csv?\n",
    "\n",
    "I am not sure if we want to do this, but this section will combine everything into one **HUGE** csv. "
   ]
  },
  {
   "cell_type": "code",
   "execution_count": null,
   "metadata": {},
   "outputs": [],
   "source": []
  },
  {
   "cell_type": "code",
   "execution_count": 33,
   "metadata": {
    "ExecuteTime": {
     "end_time": "2021-04-10T00:05:57.981967Z",
     "start_time": "2021-04-10T00:03:20.743677Z"
    }
   },
   "outputs": [
    {
     "name": "stderr",
     "output_type": "stream",
     "text": [
      "14316it [02:37, 91.05it/s] \n"
     ]
    },
    {
     "data": {
      "text/plain": [
       "14316"
      ]
     },
     "execution_count": 33,
     "metadata": {},
     "output_type": "execute_result"
    }
   ],
   "source": [
    "df = pd.DataFrame(columns= ['title', 'text'])\n",
    "df.text = ''\n",
    "\n",
    "\n",
    "\n",
    "for iterator, element in tqdm(enumerate(file_list)):\n",
    "    df.loc[iterator, 'title'] = element\n",
    "    temp_df = pd.read_json(element)\n",
    "    for text in temp_df['text']:\n",
    "        df.loc[iterator, 'text'] = str(df.loc[iterator, 'text']) + str(text)\n",
    "\n",
    "    \n",
    "len(df)"
   ]
  },
  {
   "cell_type": "code",
   "execution_count": 34,
   "metadata": {
    "ExecuteTime": {
     "end_time": "2021-04-10T00:06:00.712024Z",
     "start_time": "2021-04-10T00:06:00.704184Z"
    }
   },
   "outputs": [
    {
     "data": {
      "text/html": [
       "<div>\n",
       "<style scoped>\n",
       "    .dataframe tbody tr th:only-of-type {\n",
       "        vertical-align: middle;\n",
       "    }\n",
       "\n",
       "    .dataframe tbody tr th {\n",
       "        vertical-align: top;\n",
       "    }\n",
       "\n",
       "    .dataframe thead th {\n",
       "        text-align: right;\n",
       "    }\n",
       "</style>\n",
       "<table border=\"1\" class=\"dataframe\">\n",
       "  <thead>\n",
       "    <tr style=\"text-align: right;\">\n",
       "      <th></th>\n",
       "      <th>title</th>\n",
       "      <th>text</th>\n",
       "    </tr>\n",
       "  </thead>\n",
       "  <tbody>\n",
       "    <tr>\n",
       "      <th>0</th>\n",
       "      <td>coleridgeinitiative-show-us-the-data/train/021...</td>\n",
       "      <td>nanOn 26 January 2010, at an ordinary airport ...</td>\n",
       "    </tr>\n",
       "    <tr>\n",
       "      <th>1</th>\n",
       "      <td>coleridgeinitiative-show-us-the-data/train/569...</td>\n",
       "      <td>nanAbstract This study examined disparities in...</td>\n",
       "    </tr>\n",
       "    <tr>\n",
       "      <th>2</th>\n",
       "      <td>coleridgeinitiative-show-us-the-data/train/736...</td>\n",
       "      <td>nanMany small American farms struggle to remai...</td>\n",
       "    </tr>\n",
       "    <tr>\n",
       "      <th>3</th>\n",
       "      <td>coleridgeinitiative-show-us-the-data/train/21e...</td>\n",
       "      <td>nanAbstract-We describe a method for automated...</td>\n",
       "    </tr>\n",
       "    <tr>\n",
       "      <th>4</th>\n",
       "      <td>coleridgeinitiative-show-us-the-data/train/4fc...</td>\n",
       "      <td>nanIn the U.S. and across many countries, busi...</td>\n",
       "    </tr>\n",
       "  </tbody>\n",
       "</table>\n",
       "</div>"
      ],
      "text/plain": [
       "                                               title  \\\n",
       "0  coleridgeinitiative-show-us-the-data/train/021...   \n",
       "1  coleridgeinitiative-show-us-the-data/train/569...   \n",
       "2  coleridgeinitiative-show-us-the-data/train/736...   \n",
       "3  coleridgeinitiative-show-us-the-data/train/21e...   \n",
       "4  coleridgeinitiative-show-us-the-data/train/4fc...   \n",
       "\n",
       "                                                text  \n",
       "0  nanOn 26 January 2010, at an ordinary airport ...  \n",
       "1  nanAbstract This study examined disparities in...  \n",
       "2  nanMany small American farms struggle to remai...  \n",
       "3  nanAbstract-We describe a method for automated...  \n",
       "4  nanIn the U.S. and across many countries, busi...  "
      ]
     },
     "execution_count": 34,
     "metadata": {},
     "output_type": "execute_result"
    }
   ],
   "source": [
    "df.head()"
   ]
  },
  {
   "cell_type": "code",
   "execution_count": 35,
   "metadata": {
    "ExecuteTime": {
     "end_time": "2021-04-10T00:06:44.826267Z",
     "start_time": "2021-04-10T00:06:29.375732Z"
    }
   },
   "outputs": [],
   "source": [
    "df.to_csv('all_json_files_combined.csv')"
   ]
  },
  {
   "cell_type": "code",
   "execution_count": null,
   "metadata": {},
   "outputs": [],
   "source": []
  },
  {
   "cell_type": "code",
   "execution_count": null,
   "metadata": {},
   "outputs": [],
   "source": []
  },
  {
   "cell_type": "code",
   "execution_count": null,
   "metadata": {},
   "outputs": [],
   "source": []
  }
 ],
 "metadata": {
  "hide_input": false,
  "kernelspec": {
   "display_name": "Python 3.7.4 64-bit ('base')",
   "language": "python",
   "name": "python37464bitbasec965b938f4bd442b9c2a78061032560c"
  },
  "language_info": {
   "codemirror_mode": {
    "name": "ipython",
    "version": 3
   },
   "file_extension": ".py",
   "mimetype": "text/x-python",
   "name": "python",
   "nbconvert_exporter": "python",
   "pygments_lexer": "ipython3",
   "version": "3.8.3"
  },
  "toc": {
   "base_numbering": 1,
   "nav_menu": {},
   "number_sections": true,
   "sideBar": true,
   "skip_h1_title": false,
   "title_cell": "Table of Contents",
   "title_sidebar": "Contents",
   "toc_cell": false,
   "toc_position": {},
   "toc_section_display": true,
   "toc_window_display": true
  }
 },
 "nbformat": 4,
 "nbformat_minor": 4
}
